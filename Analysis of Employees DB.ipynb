{
 "cells": [
  {
   "cell_type": "code",
   "execution_count": 15,
   "id": "e61b40ca",
   "metadata": {},
   "outputs": [],
   "source": [
    "# Import Dependencies\n",
    "from sqlalchemy import create_engine, MetaData\n",
    "import pandas as pd\n",
    "from matplotlib import pyplot as plt\n",
    "from key import password\n",
    "import psycopg2\n",
    "import warnings\n",
    "warnings.filterwarnings('ignore')"
   ]
  },
  {
   "cell_type": "code",
   "execution_count": 16,
   "id": "48a836c5",
   "metadata": {},
   "outputs": [],
   "source": [
    "# Create a database connection\n",
    "db_params = {\n",
    "    'user': 'postgres',\n",
    "    'password': password,\n",
    "    'host': 'localhost',\n",
    "    'port': '5432',\n",
    "    'database': 'new_employees_db'\n",
    "}\n",
    "conn = psycopg2.connect(**db_params)\n",
    "cursor = conn.cursor()"
   ]
  },
  {
   "cell_type": "code",
   "execution_count": 17,
   "id": "6504f90d",
   "metadata": {},
   "outputs": [
    {
     "name": "stdout",
     "output_type": "stream",
     "text": [
      "Table Name: titles\n",
      "\n",
      "  title_id               title\n",
      "0    s0001               Staff\n",
      "1    s0002        Senior Staff\n",
      "2    e0001  Assistant Engineer\n",
      "3    e0002            Engineer\n",
      "4    e0003     Senior Engineer \n",
      "\n",
      "Table Name: employees\n",
      "\n",
      "   emp_no emp_title  birth_date  first_name  last_name sex   hire_date\n",
      "0  473302     s0001  1953-07-25    Hideyuki   Zallocco   M  1990-04-28\n",
      "1  475053     e0002  1954-11-18       Byong  Delgrande   F  1991-09-07\n",
      "2   57444     e0002  1958-01-30       Berry       Babb   F  1992-03-21\n",
      "3  421786     s0001  1957-09-28       Xiong   Verhoeff   M  1987-11-26\n",
      "4  282238     e0003  1952-10-28  Abdelkader    Baumann   F  1991-01-18 \n",
      "\n",
      "Table Name: departments\n",
      "\n",
      "  dept_no        dept_name\n",
      "0    d001        Marketing\n",
      "1    d002          Finance\n",
      "2    d003  Human Resources\n",
      "3    d004       Production\n",
      "4    d005      Development \n",
      "\n",
      "Table Name: department_manager\n",
      "\n",
      "  dept_no  emp_no\n",
      "0    d001  110022\n",
      "1    d001  110039\n",
      "2    d002  110085\n",
      "3    d002  110114\n",
      "4    d003  110183 \n",
      "\n",
      "Table Name: department_employee\n",
      "\n",
      "   emp_no dept_no\n",
      "0   10001    d005\n",
      "1   10002    d007\n",
      "2   10003    d004\n",
      "3   10004    d004\n",
      "4   10005    d003 \n",
      "\n",
      "Table Name: salaries\n",
      "\n",
      "   emp_no  salary\n",
      "0   10001   60117\n",
      "1   10002   65828\n",
      "2   10003   40006\n",
      "3   10004   40054\n",
      "4   10005   78228 \n",
      "\n"
     ]
    }
   ],
   "source": [
    "# Function to print tables and their data\n",
    "def print_tables_and_data():\n",
    "    # List table names\n",
    "    cursor.execute(\"SELECT table_name FROM information_schema.tables WHERE table_schema = 'public';\")\n",
    "    table_names = [row[0] for row in cursor.fetchall()]\n",
    "    \n",
    "    for table_name in table_names:\n",
    "        print(f\"Table Name: {table_name}\\n\")\n",
    "\n",
    "        # Fetch the first 5 rows of data from the table and print it\n",
    "        cursor.execute(f\"SELECT * FROM {table_name} LIMIT 5;\")\n",
    "        columns = [desc[0] for desc in cursor.description]\n",
    "        data = cursor.fetchall()\n",
    "        table_data = pd.DataFrame(data, columns=columns)\n",
    "        print(table_data, \"\\n\")\n",
    "\n",
    "# Call the function to print tables and their data\n",
    "print_tables_and_data()"
   ]
  },
  {
   "cell_type": "code",
   "execution_count": 18,
   "id": "a721598c",
   "metadata": {
    "scrolled": false
   },
   "outputs": [
    {
     "data": {
      "text/html": [
       "<div>\n",
       "<style scoped>\n",
       "    .dataframe tbody tr th:only-of-type {\n",
       "        vertical-align: middle;\n",
       "    }\n",
       "\n",
       "    .dataframe tbody tr th {\n",
       "        vertical-align: top;\n",
       "    }\n",
       "\n",
       "    .dataframe thead th {\n",
       "        text-align: right;\n",
       "    }\n",
       "</style>\n",
       "<table border=\"1\" class=\"dataframe\">\n",
       "  <thead>\n",
       "    <tr style=\"text-align: right;\">\n",
       "      <th></th>\n",
       "      <th>emp_no</th>\n",
       "      <th>last_name</th>\n",
       "      <th>first_name</th>\n",
       "      <th>sex</th>\n",
       "      <th>salary</th>\n",
       "    </tr>\n",
       "  </thead>\n",
       "  <tbody>\n",
       "    <tr>\n",
       "      <th>0</th>\n",
       "      <td>57444</td>\n",
       "      <td>Babb</td>\n",
       "      <td>Berry</td>\n",
       "      <td>F</td>\n",
       "      <td>48973</td>\n",
       "    </tr>\n",
       "    <tr>\n",
       "      <th>1</th>\n",
       "      <td>263976</td>\n",
       "      <td>Cusworth</td>\n",
       "      <td>Eran</td>\n",
       "      <td>M</td>\n",
       "      <td>40000</td>\n",
       "    </tr>\n",
       "    <tr>\n",
       "      <th>2</th>\n",
       "      <td>461591</td>\n",
       "      <td>Samarati</td>\n",
       "      <td>Xudong</td>\n",
       "      <td>M</td>\n",
       "      <td>40000</td>\n",
       "    </tr>\n",
       "    <tr>\n",
       "      <th>3</th>\n",
       "      <td>477657</td>\n",
       "      <td>Magliocco</td>\n",
       "      <td>Lihong</td>\n",
       "      <td>M</td>\n",
       "      <td>54816</td>\n",
       "    </tr>\n",
       "    <tr>\n",
       "      <th>4</th>\n",
       "      <td>29920</td>\n",
       "      <td>Tyugu</td>\n",
       "      <td>Shuichi</td>\n",
       "      <td>F</td>\n",
       "      <td>40000</td>\n",
       "    </tr>\n",
       "  </tbody>\n",
       "</table>\n",
       "</div>"
      ],
      "text/plain": [
       "   emp_no  last_name first_name sex  salary\n",
       "0   57444       Babb      Berry   F   48973\n",
       "1  263976   Cusworth       Eran   M   40000\n",
       "2  461591   Samarati     Xudong   M   40000\n",
       "3  477657  Magliocco     Lihong   M   54816\n",
       "4   29920      Tyugu    Shuichi   F   40000"
      ]
     },
     "execution_count": 18,
     "metadata": {},
     "output_type": "execute_result"
    }
   ],
   "source": [
    "# List the employee number, last name, first name, sex, and salary of each employee\n",
    "query1 = '''\n",
    "SELECT e.emp_no, e.last_name, e.first_name, e.sex, s.salary\n",
    "FROM Employees e\n",
    "JOIN Salaries s ON e.emp_no = s.emp_no;\n",
    "'''\n",
    "result1 = pd.read_sql(query1, conn)\n",
    "result1.head()"
   ]
  },
  {
   "cell_type": "code",
   "execution_count": 19,
   "id": "9d027869",
   "metadata": {},
   "outputs": [
    {
     "data": {
      "text/html": [
       "<div>\n",
       "<style scoped>\n",
       "    .dataframe tbody tr th:only-of-type {\n",
       "        vertical-align: middle;\n",
       "    }\n",
       "\n",
       "    .dataframe tbody tr th {\n",
       "        vertical-align: top;\n",
       "    }\n",
       "\n",
       "    .dataframe thead th {\n",
       "        text-align: right;\n",
       "    }\n",
       "</style>\n",
       "<table border=\"1\" class=\"dataframe\">\n",
       "  <thead>\n",
       "    <tr style=\"text-align: right;\">\n",
       "      <th></th>\n",
       "      <th>first_name</th>\n",
       "      <th>last_name</th>\n",
       "      <th>hire_date</th>\n",
       "    </tr>\n",
       "  </thead>\n",
       "  <tbody>\n",
       "    <tr>\n",
       "      <th>0</th>\n",
       "      <td>Eran</td>\n",
       "      <td>Cusworth</td>\n",
       "      <td>1986-11-14</td>\n",
       "    </tr>\n",
       "    <tr>\n",
       "      <th>1</th>\n",
       "      <td>Bojan</td>\n",
       "      <td>Zallocco</td>\n",
       "      <td>1986-10-14</td>\n",
       "    </tr>\n",
       "    <tr>\n",
       "      <th>2</th>\n",
       "      <td>Nevio</td>\n",
       "      <td>Demizu</td>\n",
       "      <td>1986-05-18</td>\n",
       "    </tr>\n",
       "    <tr>\n",
       "      <th>3</th>\n",
       "      <td>Ziva</td>\n",
       "      <td>Vecchi</td>\n",
       "      <td>1986-07-03</td>\n",
       "    </tr>\n",
       "    <tr>\n",
       "      <th>4</th>\n",
       "      <td>Mohit</td>\n",
       "      <td>Speek</td>\n",
       "      <td>1986-01-14</td>\n",
       "    </tr>\n",
       "  </tbody>\n",
       "</table>\n",
       "</div>"
      ],
      "text/plain": [
       "  first_name last_name   hire_date\n",
       "0       Eran  Cusworth  1986-11-14\n",
       "1      Bojan  Zallocco  1986-10-14\n",
       "2      Nevio    Demizu  1986-05-18\n",
       "3       Ziva    Vecchi  1986-07-03\n",
       "4      Mohit     Speek  1986-01-14"
      ]
     },
     "execution_count": 19,
     "metadata": {},
     "output_type": "execute_result"
    }
   ],
   "source": [
    "# List the first name, last name, and hire date for the employees who were hired in 1986\n",
    "query2 = '''\n",
    "SELECT first_name, last_name, hire_date\n",
    "FROM Employees\n",
    "WHERE EXTRACT(YEAR FROM hire_date) = 1986;\n",
    "'''\n",
    "result2 = pd.read_sql(query2, conn)\n",
    "result2.head()"
   ]
  },
  {
   "cell_type": "code",
   "execution_count": 20,
   "id": "8d92aa40",
   "metadata": {},
   "outputs": [
    {
     "data": {
      "text/html": [
       "<div>\n",
       "<style scoped>\n",
       "    .dataframe tbody tr th:only-of-type {\n",
       "        vertical-align: middle;\n",
       "    }\n",
       "\n",
       "    .dataframe tbody tr th {\n",
       "        vertical-align: top;\n",
       "    }\n",
       "\n",
       "    .dataframe thead th {\n",
       "        text-align: right;\n",
       "    }\n",
       "</style>\n",
       "<table border=\"1\" class=\"dataframe\">\n",
       "  <thead>\n",
       "    <tr style=\"text-align: right;\">\n",
       "      <th></th>\n",
       "      <th>manager_emp_no</th>\n",
       "      <th>dept_no</th>\n",
       "      <th>dept_name</th>\n",
       "      <th>emp_no</th>\n",
       "      <th>last_name</th>\n",
       "      <th>first_name</th>\n",
       "    </tr>\n",
       "  </thead>\n",
       "  <tbody>\n",
       "    <tr>\n",
       "      <th>0</th>\n",
       "      <td>110022</td>\n",
       "      <td>d001</td>\n",
       "      <td>Marketing</td>\n",
       "      <td>110022</td>\n",
       "      <td>Markovitch</td>\n",
       "      <td>Margareta</td>\n",
       "    </tr>\n",
       "    <tr>\n",
       "      <th>1</th>\n",
       "      <td>110039</td>\n",
       "      <td>d001</td>\n",
       "      <td>Marketing</td>\n",
       "      <td>110039</td>\n",
       "      <td>Minakawa</td>\n",
       "      <td>Vishwani</td>\n",
       "    </tr>\n",
       "    <tr>\n",
       "      <th>2</th>\n",
       "      <td>110085</td>\n",
       "      <td>d002</td>\n",
       "      <td>Finance</td>\n",
       "      <td>110085</td>\n",
       "      <td>Alpin</td>\n",
       "      <td>Ebru</td>\n",
       "    </tr>\n",
       "    <tr>\n",
       "      <th>3</th>\n",
       "      <td>110114</td>\n",
       "      <td>d002</td>\n",
       "      <td>Finance</td>\n",
       "      <td>110114</td>\n",
       "      <td>Legleitner</td>\n",
       "      <td>Isamu</td>\n",
       "    </tr>\n",
       "    <tr>\n",
       "      <th>4</th>\n",
       "      <td>110183</td>\n",
       "      <td>d003</td>\n",
       "      <td>Human Resources</td>\n",
       "      <td>110183</td>\n",
       "      <td>Ossenbruggen</td>\n",
       "      <td>Shirish</td>\n",
       "    </tr>\n",
       "  </tbody>\n",
       "</table>\n",
       "</div>"
      ],
      "text/plain": [
       "   manager_emp_no dept_no        dept_name  emp_no     last_name first_name\n",
       "0          110022    d001        Marketing  110022    Markovitch  Margareta\n",
       "1          110039    d001        Marketing  110039      Minakawa   Vishwani\n",
       "2          110085    d002          Finance  110085         Alpin       Ebru\n",
       "3          110114    d002          Finance  110114    Legleitner      Isamu\n",
       "4          110183    d003  Human Resources  110183  Ossenbruggen    Shirish"
      ]
     },
     "execution_count": 20,
     "metadata": {},
     "output_type": "execute_result"
    }
   ],
   "source": [
    "# List the manager of each department along with their department number, department name, employee number, last name, and first name\n",
    "query3 = '''\n",
    "SELECT dm.emp_no AS manager_emp_no, d.dept_no, d.dept_name, e.emp_no, e.last_name, e.first_name\n",
    "FROM Department_Manager dm\n",
    "JOIN Departments d ON dm.dept_no = d.dept_no\n",
    "JOIN Employees e ON dm.emp_no = e.emp_no;\n",
    "'''\n",
    "result3 = pd.read_sql(query3, conn)\n",
    "result3.head()"
   ]
  },
  {
   "cell_type": "code",
   "execution_count": 21,
   "id": "16990d9c",
   "metadata": {},
   "outputs": [
    {
     "data": {
      "text/html": [
       "<div>\n",
       "<style scoped>\n",
       "    .dataframe tbody tr th:only-of-type {\n",
       "        vertical-align: middle;\n",
       "    }\n",
       "\n",
       "    .dataframe tbody tr th {\n",
       "        vertical-align: top;\n",
       "    }\n",
       "\n",
       "    .dataframe thead th {\n",
       "        text-align: right;\n",
       "    }\n",
       "</style>\n",
       "<table border=\"1\" class=\"dataframe\">\n",
       "  <thead>\n",
       "    <tr style=\"text-align: right;\">\n",
       "      <th></th>\n",
       "      <th>emp_no</th>\n",
       "      <th>last_name</th>\n",
       "      <th>first_name</th>\n",
       "      <th>dept_no</th>\n",
       "      <th>dept_name</th>\n",
       "    </tr>\n",
       "  </thead>\n",
       "  <tbody>\n",
       "    <tr>\n",
       "      <th>0</th>\n",
       "      <td>10001</td>\n",
       "      <td>Facello</td>\n",
       "      <td>Georgi</td>\n",
       "      <td>d005</td>\n",
       "      <td>Development</td>\n",
       "    </tr>\n",
       "    <tr>\n",
       "      <th>1</th>\n",
       "      <td>10005</td>\n",
       "      <td>Maliniak</td>\n",
       "      <td>Kyoichi</td>\n",
       "      <td>d003</td>\n",
       "      <td>Human Resources</td>\n",
       "    </tr>\n",
       "    <tr>\n",
       "      <th>2</th>\n",
       "      <td>10010</td>\n",
       "      <td>Piveteau</td>\n",
       "      <td>Duangkaew</td>\n",
       "      <td>d004</td>\n",
       "      <td>Production</td>\n",
       "    </tr>\n",
       "    <tr>\n",
       "      <th>3</th>\n",
       "      <td>10010</td>\n",
       "      <td>Piveteau</td>\n",
       "      <td>Duangkaew</td>\n",
       "      <td>d006</td>\n",
       "      <td>Quality Management</td>\n",
       "    </tr>\n",
       "    <tr>\n",
       "      <th>4</th>\n",
       "      <td>10011</td>\n",
       "      <td>Sluis</td>\n",
       "      <td>Mary</td>\n",
       "      <td>d009</td>\n",
       "      <td>Customer Service</td>\n",
       "    </tr>\n",
       "  </tbody>\n",
       "</table>\n",
       "</div>"
      ],
      "text/plain": [
       "   emp_no last_name first_name dept_no           dept_name\n",
       "0   10001   Facello     Georgi    d005         Development\n",
       "1   10005  Maliniak    Kyoichi    d003     Human Resources\n",
       "2   10010  Piveteau  Duangkaew    d004          Production\n",
       "3   10010  Piveteau  Duangkaew    d006  Quality Management\n",
       "4   10011     Sluis       Mary    d009    Customer Service"
      ]
     },
     "execution_count": 21,
     "metadata": {},
     "output_type": "execute_result"
    }
   ],
   "source": [
    "# List the department number for each employee along with that employee’s employee number, last name, first name, and department name\n",
    "query4 = '''\n",
    "SELECT de.emp_no, e.last_name, e.first_name, d.dept_no, d.dept_name\n",
    "FROM Department_Employee de\n",
    "JOIN Employees e ON de.emp_no = e.emp_no\n",
    "JOIN Departments d ON de.dept_no = d.dept_no;\n",
    "'''\n",
    "result4 = pd.read_sql(query4, conn)\n",
    "result4.head()"
   ]
  },
  {
   "cell_type": "code",
   "execution_count": 26,
   "id": "c93e0ff3",
   "metadata": {},
   "outputs": [
    {
     "data": {
      "text/html": [
       "<div>\n",
       "<style scoped>\n",
       "    .dataframe tbody tr th:only-of-type {\n",
       "        vertical-align: middle;\n",
       "    }\n",
       "\n",
       "    .dataframe tbody tr th {\n",
       "        vertical-align: top;\n",
       "    }\n",
       "\n",
       "    .dataframe thead th {\n",
       "        text-align: right;\n",
       "    }\n",
       "</style>\n",
       "<table border=\"1\" class=\"dataframe\">\n",
       "  <thead>\n",
       "    <tr style=\"text-align: right;\">\n",
       "      <th></th>\n",
       "      <th>first_name</th>\n",
       "      <th>last_name</th>\n",
       "      <th>sex</th>\n",
       "    </tr>\n",
       "  </thead>\n",
       "  <tbody>\n",
       "    <tr>\n",
       "      <th>0</th>\n",
       "      <td>Hercules</td>\n",
       "      <td>Baer</td>\n",
       "      <td>M</td>\n",
       "    </tr>\n",
       "    <tr>\n",
       "      <th>1</th>\n",
       "      <td>Hercules</td>\n",
       "      <td>Biron</td>\n",
       "      <td>F</td>\n",
       "    </tr>\n",
       "    <tr>\n",
       "      <th>2</th>\n",
       "      <td>Hercules</td>\n",
       "      <td>Birge</td>\n",
       "      <td>F</td>\n",
       "    </tr>\n",
       "    <tr>\n",
       "      <th>3</th>\n",
       "      <td>Hercules</td>\n",
       "      <td>Berstel</td>\n",
       "      <td>F</td>\n",
       "    </tr>\n",
       "    <tr>\n",
       "      <th>4</th>\n",
       "      <td>Hercules</td>\n",
       "      <td>Bernatsky</td>\n",
       "      <td>M</td>\n",
       "    </tr>\n",
       "  </tbody>\n",
       "</table>\n",
       "</div>"
      ],
      "text/plain": [
       "  first_name  last_name sex\n",
       "0   Hercules       Baer   M\n",
       "1   Hercules      Biron   F\n",
       "2   Hercules      Birge   F\n",
       "3   Hercules    Berstel   F\n",
       "4   Hercules  Bernatsky   M"
      ]
     },
     "execution_count": 26,
     "metadata": {},
     "output_type": "execute_result"
    }
   ],
   "source": [
    "query5 = '''\n",
    "SELECT first_name, last_name, sex\n",
    "FROM employees\n",
    "WHERE first_name = 'Hercules' AND last_name LIKE 'B%';\n",
    "'''\n",
    "cursor.execute(query5)\n",
    "result = pd.DataFrame(cursor.fetchall(), columns=['first_name', 'last_name', 'sex'])\n",
    "result.head()\n"
   ]
  },
  {
   "cell_type": "code",
   "execution_count": 27,
   "id": "e3b413e5",
   "metadata": {},
   "outputs": [
    {
     "data": {
      "text/html": [
       "<div>\n",
       "<style scoped>\n",
       "    .dataframe tbody tr th:only-of-type {\n",
       "        vertical-align: middle;\n",
       "    }\n",
       "\n",
       "    .dataframe tbody tr th {\n",
       "        vertical-align: top;\n",
       "    }\n",
       "\n",
       "    .dataframe thead th {\n",
       "        text-align: right;\n",
       "    }\n",
       "</style>\n",
       "<table border=\"1\" class=\"dataframe\">\n",
       "  <thead>\n",
       "    <tr style=\"text-align: right;\">\n",
       "      <th></th>\n",
       "      <th>emp_no</th>\n",
       "      <th>last_name</th>\n",
       "      <th>first_name</th>\n",
       "    </tr>\n",
       "  </thead>\n",
       "  <tbody>\n",
       "    <tr>\n",
       "      <th>0</th>\n",
       "      <td>10002</td>\n",
       "      <td>Simmel</td>\n",
       "      <td>Bezalel</td>\n",
       "    </tr>\n",
       "    <tr>\n",
       "      <th>1</th>\n",
       "      <td>10016</td>\n",
       "      <td>Cappelletti</td>\n",
       "      <td>Kazuhito</td>\n",
       "    </tr>\n",
       "    <tr>\n",
       "      <th>2</th>\n",
       "      <td>10034</td>\n",
       "      <td>Swan</td>\n",
       "      <td>Bader</td>\n",
       "    </tr>\n",
       "    <tr>\n",
       "      <th>3</th>\n",
       "      <td>10041</td>\n",
       "      <td>Lenart</td>\n",
       "      <td>Uri</td>\n",
       "    </tr>\n",
       "    <tr>\n",
       "      <th>4</th>\n",
       "      <td>10050</td>\n",
       "      <td>Dredge</td>\n",
       "      <td>Yinghua</td>\n",
       "    </tr>\n",
       "  </tbody>\n",
       "</table>\n",
       "</div>"
      ],
      "text/plain": [
       "   emp_no    last_name first_name\n",
       "0   10002       Simmel    Bezalel\n",
       "1   10016  Cappelletti   Kazuhito\n",
       "2   10034         Swan      Bader\n",
       "3   10041       Lenart        Uri\n",
       "4   10050       Dredge    Yinghua"
      ]
     },
     "execution_count": 27,
     "metadata": {},
     "output_type": "execute_result"
    }
   ],
   "source": [
    "# List each employee in the Sales department, including their employee number, last name, and first name\n",
    "query6 = '''\n",
    "SELECT e.emp_no, e.last_name, e.first_name\n",
    "FROM Employees e\n",
    "JOIN Department_Employee de ON e.emp_no = de.emp_no\n",
    "JOIN Departments d ON de.dept_no = d.dept_no\n",
    "WHERE d.dept_name = 'Sales';\n",
    "'''\n",
    "result6 = pd.read_sql(query6, conn)\n",
    "result6.head()"
   ]
  },
  {
   "cell_type": "code",
   "execution_count": 28,
   "id": "5219ba2a",
   "metadata": {},
   "outputs": [
    {
     "data": {
      "text/html": [
       "<div>\n",
       "<style scoped>\n",
       "    .dataframe tbody tr th:only-of-type {\n",
       "        vertical-align: middle;\n",
       "    }\n",
       "\n",
       "    .dataframe tbody tr th {\n",
       "        vertical-align: top;\n",
       "    }\n",
       "\n",
       "    .dataframe thead th {\n",
       "        text-align: right;\n",
       "    }\n",
       "</style>\n",
       "<table border=\"1\" class=\"dataframe\">\n",
       "  <thead>\n",
       "    <tr style=\"text-align: right;\">\n",
       "      <th></th>\n",
       "      <th>emp_no</th>\n",
       "      <th>last_name</th>\n",
       "      <th>first_name</th>\n",
       "      <th>dept_name</th>\n",
       "    </tr>\n",
       "  </thead>\n",
       "  <tbody>\n",
       "    <tr>\n",
       "      <th>0</th>\n",
       "      <td>10001</td>\n",
       "      <td>Facello</td>\n",
       "      <td>Georgi</td>\n",
       "      <td>Development</td>\n",
       "    </tr>\n",
       "    <tr>\n",
       "      <th>1</th>\n",
       "      <td>10002</td>\n",
       "      <td>Simmel</td>\n",
       "      <td>Bezalel</td>\n",
       "      <td>Sales</td>\n",
       "    </tr>\n",
       "    <tr>\n",
       "      <th>2</th>\n",
       "      <td>10006</td>\n",
       "      <td>Preusig</td>\n",
       "      <td>Anneke</td>\n",
       "      <td>Development</td>\n",
       "    </tr>\n",
       "    <tr>\n",
       "      <th>3</th>\n",
       "      <td>10008</td>\n",
       "      <td>Kalloufi</td>\n",
       "      <td>Saniya</td>\n",
       "      <td>Development</td>\n",
       "    </tr>\n",
       "    <tr>\n",
       "      <th>4</th>\n",
       "      <td>10012</td>\n",
       "      <td>Bridgland</td>\n",
       "      <td>Patricio</td>\n",
       "      <td>Development</td>\n",
       "    </tr>\n",
       "  </tbody>\n",
       "</table>\n",
       "</div>"
      ],
      "text/plain": [
       "   emp_no  last_name first_name    dept_name\n",
       "0   10001    Facello     Georgi  Development\n",
       "1   10002     Simmel    Bezalel        Sales\n",
       "2   10006    Preusig     Anneke  Development\n",
       "3   10008   Kalloufi     Saniya  Development\n",
       "4   10012  Bridgland   Patricio  Development"
      ]
     },
     "execution_count": 28,
     "metadata": {},
     "output_type": "execute_result"
    }
   ],
   "source": [
    "# List each employee in the Sales and Development departments, including their employee number, last name, first name, and department name\n",
    "query7 = '''\n",
    "SELECT e.emp_no, e.last_name, e.first_name, d.dept_name\n",
    "FROM Employees e\n",
    "JOIN Department_Employee de ON e.emp_no = de.emp_no\n",
    "JOIN Departments d ON de.dept_no = d.dept_no\n",
    "WHERE d.dept_name IN ('Sales', 'Development');\n",
    "'''\n",
    "result7 = pd.read_sql(query7, conn)\n",
    "result7.head()"
   ]
  },
  {
   "cell_type": "code",
   "execution_count": 29,
   "id": "84c4be57",
   "metadata": {},
   "outputs": [
    {
     "data": {
      "text/html": [
       "<div>\n",
       "<style scoped>\n",
       "    .dataframe tbody tr th:only-of-type {\n",
       "        vertical-align: middle;\n",
       "    }\n",
       "\n",
       "    .dataframe tbody tr th {\n",
       "        vertical-align: top;\n",
       "    }\n",
       "\n",
       "    .dataframe thead th {\n",
       "        text-align: right;\n",
       "    }\n",
       "</style>\n",
       "<table border=\"1\" class=\"dataframe\">\n",
       "  <thead>\n",
       "    <tr style=\"text-align: right;\">\n",
       "      <th></th>\n",
       "      <th>last_name</th>\n",
       "      <th>name_count</th>\n",
       "    </tr>\n",
       "  </thead>\n",
       "  <tbody>\n",
       "    <tr>\n",
       "      <th>0</th>\n",
       "      <td>Baba</td>\n",
       "      <td>226</td>\n",
       "    </tr>\n",
       "    <tr>\n",
       "      <th>1</th>\n",
       "      <td>Coorg</td>\n",
       "      <td>223</td>\n",
       "    </tr>\n",
       "    <tr>\n",
       "      <th>2</th>\n",
       "      <td>Gelosh</td>\n",
       "      <td>223</td>\n",
       "    </tr>\n",
       "    <tr>\n",
       "      <th>3</th>\n",
       "      <td>Sudbeck</td>\n",
       "      <td>222</td>\n",
       "    </tr>\n",
       "    <tr>\n",
       "      <th>4</th>\n",
       "      <td>Farris</td>\n",
       "      <td>222</td>\n",
       "    </tr>\n",
       "  </tbody>\n",
       "</table>\n",
       "</div>"
      ],
      "text/plain": [
       "  last_name  name_count\n",
       "0      Baba         226\n",
       "1     Coorg         223\n",
       "2    Gelosh         223\n",
       "3   Sudbeck         222\n",
       "4    Farris         222"
      ]
     },
     "execution_count": 29,
     "metadata": {},
     "output_type": "execute_result"
    }
   ],
   "source": [
    "# List the frequency counts, in descending order, of all the employee last names (that is, how many employees share each last name)\n",
    "query8 = '''\n",
    "SELECT last_name, COUNT(*) AS name_count\n",
    "FROM Employees\n",
    "GROUP BY last_name\n",
    "ORDER BY name_count DESC;\n",
    "'''\n",
    "result8 = pd.read_sql(query8, conn)\n",
    "result8.head()"
   ]
  },
  {
   "cell_type": "markdown",
   "id": "b7cb4f29",
   "metadata": {},
   "source": [
    "# Data Visualisation and Analysis"
   ]
  },
  {
   "cell_type": "markdown",
   "id": "bfe91ede",
   "metadata": {},
   "source": [
    "## Percentage of employees per department"
   ]
  },
  {
   "cell_type": "code",
   "execution_count": 40,
   "id": "f9fd2607",
   "metadata": {
    "scrolled": false
   },
   "outputs": [
    {
     "name": "stdout",
     "output_type": "stream",
     "text": [
      "      Department Name  Employee Count\n",
      "0    Customer Service           23580\n",
      "1         Development           85707\n",
      "2             Finance           17346\n",
      "3     Human Resources           17786\n",
      "4           Marketing           20211\n",
      "5          Production           73485\n",
      "6  Quality Management           20117\n",
      "7            Research           21126\n",
      "8               Sales           52245\n"
     ]
    },
    {
     "data": {
      "image/png": "[encoded data removed]",
      "text/plain": [
       "<Figure size 800x800 with 1 Axes>"
      ]
     },
     "metadata": {},
     "output_type": "display_data"
    }
   ],
   "source": [
    "# Query to get the count of employees per department\n",
    "cursor.execute(\"\"\"\n",
    "    SELECT d.dept_name, COUNT(de.emp_no) as emp_count\n",
    "    FROM department_employee de\n",
    "    JOIN departments d ON de.dept_no = d.dept_no\n",
    "    GROUP BY d.dept_name;\n",
    "\"\"\")\n",
    "data = cursor.fetchall()\n",
    "df1 = pd.DataFrame(data, columns=[\"Department Name\", \"Employee Count\"])\n",
    "print(df1)\n",
    "\n",
    "# Create a pie chart\n",
    "plt.figure(figsize=(8, 8))\n",
    "plt.pie(df1[\"Employee Count\"], labels=df1[\"Department Name\"], autopct='%1.1f%%', startangle=140)\n",
    "plt.title(\"Percentage of Employees per Department\")\n",
    "plt.show()"
   ]
  },
  {
   "cell_type": "markdown",
   "id": "ec88f63a",
   "metadata": {},
   "source": [
    "The pie chart illustrates the distribution of employees across various departments within the organization. Notably, the \"Development\" department stands out as the largest, representing 25.8% of the workforce. \"Production\" and \"Sales\" follow closely, at 22.2% and 15.8%, respectively. Meanwhile, several smaller departments, such as \"Customer Service,\" \"Research,\" and \"Marketing,\" comprise smaller percentages"
   ]
  },
  {
   "cell_type": "markdown",
   "id": "1e24020d",
   "metadata": {},
   "source": [
    "## Salary ranges for all employees"
   ]
  },
  {
   "cell_type": "code",
   "execution_count": 41,
   "id": "ccf08755",
   "metadata": {
    "scrolled": false
   },
   "outputs": [
    {
     "name": "stdout",
     "output_type": "stream",
     "text": [
      "        Salary\n",
      "0        60117\n",
      "1        65828\n",
      "2        40006\n",
      "3        40054\n",
      "4        78228\n",
      "...        ...\n",
      "300019   40000\n",
      "300020   58058\n",
      "300021   49597\n",
      "300022   40000\n",
      "300023   63707\n",
      "\n",
      "[300024 rows x 1 columns]\n"
     ]
    },
    {
     "data": {
      "image/png": "[encoded data removed]",
      "text/plain": [
       "<Figure size 1000x600 with 1 Axes>"
      ]
     },
     "metadata": {},
     "output_type": "display_data"
    }
   ],
   "source": [
    "cursor.execute(\"\"\"\n",
    "    SELECT salary\n",
    "    FROM salaries;\n",
    "\"\"\")\n",
    "data = cursor.fetchall()\n",
    "df2 = pd.DataFrame(data, columns=[\"Salary\"])\n",
    "print(df2)\n",
    "\n",
    "# Create a histogram for salary ranges\n",
    "plt.figure(figsize=(10, 6))\n",
    "plt.hist(df2[\"Salary\"], bins=10, edgecolor='k', alpha=0.7)\n",
    "plt.xlabel(\"Salary Range\")\n",
    "plt.ylabel(\"Number of Employees\")\n",
    "plt.title(\"Salary Ranges for All Employees\")\n",
    "plt.show()"
   ]
  },
  {
   "cell_type": "markdown",
   "id": "bb5fda92",
   "metadata": {},
   "source": [
    "According to the histogram, the number of employees earning between 40,000 and 60,000 is the highest, followed by the number of employees earning between 60,000 and 80,000. The distribution of salary is positively skewed with the longest tail towards the right.\n",
    "\n",
    "This means that there are more employees in the lower salary ranges with a gradual decrease in the number of employees as the salary increases. There are few outliers in the higher salary ranges."
   ]
  },
  {
   "cell_type": "markdown",
   "id": "1915c72f",
   "metadata": {},
   "source": [
    "## Average salary per job title"
   ]
  },
  {
   "cell_type": "code",
   "execution_count": 42,
   "id": "3bd1b5de",
   "metadata": {
    "scrolled": false
   },
   "outputs": [
    {
     "name": "stdout",
     "output_type": "stream",
     "text": [
      "            Job Title      Average Salary\n",
      "0  Assistant Engineer  48564.434447300771\n",
      "1            Engineer  48535.336511426337\n",
      "2             Manager  51531.041666666667\n",
      "3     Senior Engineer  48506.799871095788\n",
      "4        Senior Staff  58550.172704359929\n",
      "5               Staff  58465.382850331521\n",
      "6    Technique Leader  48582.896091893319\n"
     ]
    },
    {
     "data": {
      "image/png": "[encoded data removed]",
      "text/plain": [
       "<Figure size 1000x600 with 1 Axes>"
      ]
     },
     "metadata": {},
     "output_type": "display_data"
    }
   ],
   "source": [
    "# Query to get the average salary per job title\n",
    "cursor.execute(\"\"\"\n",
    "    SELECT t.title, AVG(s.salary) as avg_salary\n",
    "    FROM employees e\n",
    "    JOIN salaries s ON e.emp_no = s.emp_no\n",
    "    JOIN titles t ON e.emp_title = t.title_id\n",
    "    GROUP BY t.title;\n",
    "\"\"\")\n",
    "data = cursor.fetchall()\n",
    "df3 = pd.DataFrame(data, columns=[\"Job Title\", \"Average Salary\"])\n",
    "print(df3)\n",
    "\n",
    "# Create a bar chart for average salary per job title\n",
    "plt.figure(figsize=(10, 6))\n",
    "plt.bar(df3[\"Job Title\"], df3[\"Average Salary\"], color='blue')\n",
    "plt.xlabel(\"Job Title\")\n",
    "plt.ylabel(\"Average Salary\")\n",
    "plt.title(\"Average Salary per Job Title\")\n",
    "plt.xticks(rotation=45)\n",
    "plt.show()"
   ]
  },
  {
   "cell_type": "markdown",
   "id": "721449cc",
   "metadata": {},
   "source": [
    "The data displays the average salaries for various job titles, ranging between 48,000 and 58,000. It's interesting to see that technical roles like \"Assistant Engineer,\" \"Engineer,\" \"Senior Engineer,\" and \"Technique Leader\" all have nearly identical average salaries, around 48,000, indicating comparable pay. On the other hand, \"Senior Staff\" and \"Staff\" earn more on average, surpassing 58,000, which could be due to their seniority or added responsibilities in these positions."
   ]
  },
  {
   "cell_type": "markdown",
   "id": "3e3f7d30",
   "metadata": {},
   "source": [
    "## The length of employment (tenure) for employees"
   ]
  },
  {
   "cell_type": "code",
   "execution_count": 43,
   "id": "4f157c5a",
   "metadata": {},
   "outputs": [
    {
     "name": "stdout",
     "output_type": "stream",
     "text": [
      "        Employee Number  Tenure (Years)\n",
      "0                473302            33.0\n",
      "1                475053            32.0\n",
      "2                 57444            31.0\n",
      "3                421786            36.0\n",
      "4                282238            32.0\n",
      "...                 ...             ...\n",
      "300019           464231            35.0\n",
      "300020           255832            28.0\n",
      "300021            76671            35.0\n",
      "300022           264920            29.0\n",
      "300023           464503            36.0\n",
      "\n",
      "[300024 rows x 2 columns]\n"
     ]
    },
    {
     "data": {
      "image/png": "[encoded data removed]",
      "text/plain": [
       "<Figure size 1000x600 with 1 Axes>"
      ]
     },
     "metadata": {},
     "output_type": "display_data"
    }
   ],
   "source": [
    "# Query to calculate the length of employment (tenure) for employees\n",
    "cursor.execute(\"\"\"\n",
    "    SELECT emp_no, DATE_PART('year', NOW()) - DATE_PART('year', hire_date) as tenure\n",
    "    FROM employees;\n",
    "\"\"\")\n",
    "data = cursor.fetchall()\n",
    "df4 = pd.DataFrame(data, columns=[\"Employee Number\", \"Tenure (Years)\"])\n",
    "print(df4)\n",
    "\n",
    "# Create a histogram for tenure\n",
    "plt.figure(figsize=(10, 6))\n",
    "plt.hist(df4[\"Tenure (Years)\"], bins=10, edgecolor='k', alpha=0.7)\n",
    "plt.xlabel(\"Tenure (Years)\")\n",
    "plt.ylabel(\"Number of Employees\")\n",
    "plt.title(\"Length of Employment (Tenure) for Employees\")\n",
    "plt.show()"
   ]
  },
  {
   "cell_type": "markdown",
   "id": "ba703bf0",
   "metadata": {},
   "source": [
    "The histogram shows that there is a significant number of employees with tenure between 36 and 38 years. This could be due to a number of factors, such as the company's history, culture, and benefits package. "
   ]
  },
  {
   "cell_type": "code",
   "execution_count": null,
   "id": "0eef815f",
   "metadata": {},
   "outputs": [],
   "source": []
  }
 ],
 "metadata": {
  "kernelspec": {
   "display_name": "Python 3",
   "language": "python",
   "name": "python3"
  },
  "language_info": {
   "codemirror_mode": {
    "name": "ipython",
    "version": 3
   },
   "file_extension": ".py",
   "mimetype": "text/x-python",
   "name": "python",
   "nbconvert_exporter": "python",
   "pygments_lexer": "ipython3",
   "version": "3.11.5"
  }
 },
 "nbformat": 4,
 "nbformat_minor": 5
}
